{
  "nbformat": 4,
  "nbformat_minor": 0,
  "metadata": {
    "colab": {
      "provenance": [],
      "authorship_tag": "ABX9TyM11XLtVC0Z3sjcE2FsHFzu",
      "include_colab_link": true
    },
    "kernelspec": {
      "name": "python3",
      "display_name": "Python 3"
    },
    "language_info": {
      "name": "python"
    }
  },
  "cells": [
    {
      "cell_type": "markdown",
      "metadata": {
        "id": "view-in-github",
        "colab_type": "text"
      },
      "source": [
        "<a href=\"https://colab.research.google.com/github/carmalu/eu-atoa/blob/main/NSG_e_RSG.ipynb\" target=\"_parent\"><img src=\"https://colab.research.google.com/assets/colab-badge.svg\" alt=\"Open In Colab\"/></a>"
      ]
    },
    {
      "cell_type": "markdown",
      "source": [
        "Existe um input de notas e um input de créditos; \n",
        "digitar a nota da materia e a quantidade de creditos correspondente à matéria em diferentes inputs"
      ],
      "metadata": {
        "id": "PDY9CUM94jvv"
      }
    },
    {
      "cell_type": "markdown",
      "source": [
        "#codigo"
      ],
      "metadata": {
        "id": "T0M-e-Eq4B2H"
      }
    },
    {
      "cell_type": "code",
      "source": [
        "########### CALCULO DO NSG e RSG #####################\n",
        "########## 100% desnecessário ############\n",
        "###### by malu #######\n",
        "\n",
        "def rendimento(n):\n",
        "\n",
        "  notas = []\n",
        "  creditos = []\n",
        "  conceitos = []\n",
        "  soma = []\n",
        "  soma2 = []\n",
        "  for k in range (n):\n",
        "    a = float(input('nota:'))\n",
        "\n",
        "    if a >= 90:\n",
        "      conceito = 5\n",
        "    elif a >= 80:\n",
        "      conceito = 4\n",
        "    elif a >= 70:\n",
        "      conceito = 3\n",
        "    elif a >= 60:\n",
        "      conceito = 2\n",
        "    elif a >= 40:\n",
        "      conceito = 1\n",
        "    else:\n",
        "      conceito = 0 \n",
        "    conceitos.append(conceito)\n",
        "    \n",
        "    b = float(input('creditos:'))\n",
        "    notas.append(a)\n",
        "    creditos.append(b)\n",
        "\n",
        "  tot_creditos = sum(creditos)\n",
        "\n",
        "  \n",
        "  for i, k in zip(notas,creditos):\n",
        "    soma.append(i*k)\n",
        "  NSG = sum(soma)/tot_creditos\n",
        "\n",
        "  for j, l in zip(conceitos,creditos):\n",
        "    soma2.append(j*l)\n",
        "  RSG = sum(soma2)/tot_creditos\n",
        "\n",
        "  \n",
        "  return 'O seu NSG é:''%.3f'% NSG, 'O seu RSG é:' '%.3f'%(RSG)\n"
      ],
      "metadata": {
        "id": "O_JQpvx_Aito"
      },
      "execution_count": 3,
      "outputs": []
    },
    {
      "cell_type": "markdown",
      "source": [
        "#Função"
      ],
      "metadata": {
        "id": "GYmYIIF34KX7"
      }
    },
    {
      "cell_type": "code",
      "source": [
        "n = int(input(\"Número de disciplinas cursadas:\"))\n",
        "\n",
        "rendimento(n)"
      ],
      "metadata": {
        "id": "RhbwtEMF3z0y"
      },
      "execution_count": null,
      "outputs": []
    }
  ]
}